{
 "cells": [
  {
   "cell_type": "markdown",
   "id": "1cd5c9ec",
   "metadata": {},
   "source": [
    "## Problem Set 1"
   ]
  },
  {
   "cell_type": "markdown",
   "id": "94b8472e",
   "metadata": {},
   "source": [
    "<img src=\"./q1.png\" width=\"500\"/>"
   ]
  },
  {
   "cell_type": "code",
   "execution_count": 99,
   "id": "8eed6570",
   "metadata": {},
   "outputs": [
    {
     "name": "stdout",
     "output_type": "stream",
     "text": [
      "<class 'int'>\n",
      "<class 'float'>\n",
      "<class 'bool'>\n",
      "<class 'str'>\n",
      "<class 'str'>\n",
      "<class 'str'>\n",
      "<class 'float'>\n",
      "<class 'int'>\n",
      "<class 'set'>\n",
      "<class 'bool'>\n",
      "<class 'float'>\n"
     ]
    }
   ],
   "source": [
    "import math # to access type of Pi\n",
    "\n",
    "\n",
    "print(type(5))\n",
    "print(type(5.0))\n",
    "print(type(5>1))\n",
    "print(type('5'))\n",
    "print(type('5'*2))\n",
    "print(type('5'+'2'))\n",
    "print(type(5/2))\n",
    "print(type(5%2))\n",
    "print(type({5,2,1}))\n",
    "print(type(5 ==3))\n",
    "print(type(math.pi))"
   ]
  },
  {
   "cell_type": "markdown",
   "id": "6c1afa5d",
   "metadata": {},
   "source": [
    "<img src=\"./q2a.png\" width=\"500\"/>\n",
    "<img src=\"./q2b.png\" width=\"500\"/>"
   ]
  },
  {
   "cell_type": "code",
   "execution_count": 100,
   "id": "1b6f7664",
   "metadata": {},
   "outputs": [
    {
     "name": "stdout",
     "output_type": "stream",
     "text": [
      "------------Question A---------------\n",
      "34\n",
      "------------Question B---------------\n",
      "True\n",
      "------------Question C---------------\n",
      "Bababadalgharaghtakamminarronnkonn and Supercalifragilisticexpialidocious are equal\n",
      "------------Question D---------------\n",
      "First composer is dictionary is : Brian\n",
      "Last composer is dictionary is : Borodin\n"
     ]
    }
   ],
   "source": [
    "print('------------Question A---------------')\n",
    "print(len('Supercalifragilisticexpialidocious'))\n",
    "print('------------Question B---------------')\n",
    "print('ice' in 'Supercalifragilisticexpialidocious')\n",
    "\n",
    "print('------------Question C---------------')\n",
    "str1 = 'Supercalifragilisticexpialidocious'\n",
    "str2 = 'Honorificabilitudinitatibus'\n",
    "str3 = 'Bababadalgharaghtakamminarronnkonn'\n",
    "\n",
    "\n",
    "if len(str1) == len(str2):\n",
    "    print(f\"{str1} and {str2} are equal\")\n",
    "elif len(str2) == len(str3):\n",
    "    print(f\"{str2} and {str3} are equal\")\n",
    "elif len(str3) == len(str1):\n",
    "    print(f\"{str3} and {str1} are equal\")\n",
    "elif len(str1)> len(str2):\n",
    "    print(f\"{str1} is largest\")\n",
    "elif len(str1)> len(str2):\n",
    "    print(f\"Longest string is {str1}\")\n",
    "elif len(str1) > len(str3):\n",
    "    print(f\"Longest String is {str1}\")\n",
    "elif len(str2)> len(str1):\n",
    "    print(f\"Longest String is {str2}\")\n",
    "elif len(str2) > len(str3):\n",
    "    print(f\"Longest String is {str2}\")\n",
    "elif len(str3) > len(str1):\n",
    "    print(f\"Longest String is {str3}\")\n",
    "elif len(str3) > len(str2):\n",
    "        print(f\"Longest String is {str3}\")\n",
    "\n",
    "\n",
    "print('------------Question D---------------')\n",
    "composers_dict ={'Berlioz', 'Borodin', 'Brian','Bartok', 'Bellini', 'Buxtehude', 'Bernstein',}\n",
    "# in order to get first and last composers from dictionary, we need to convert that into list\n",
    "composers_list = list(composers_dict)\n",
    "print(f\"First composer is dictionary is : {composers_list[0]}\")\n",
    "print(f\"Last composer is dictionary is : {composers_list[-1]}\")\n",
    "\n"
   ]
  },
  {
   "cell_type": "markdown",
   "id": "1b65191d",
   "metadata": {},
   "source": [
    "<img src=\"./q3.png\" width=\"500\"/>\n",
    "\n"
   ]
  },
  {
   "cell_type": "code",
   "execution_count": 101,
   "id": "05cfa1d9",
   "metadata": {},
   "outputs": [
    {
     "name": "stdout",
     "output_type": "stream",
     "text": [
      "Please enter A: 2\n",
      "Please enter B: 2\n",
      "Please enter C: 2\n",
      "area of triangle is: 1.7320508075688772\n"
     ]
    }
   ],
   "source": [
    "import math\n",
    "\n",
    "a= float(input(\"Please enter A: \"))\n",
    "b= float(input(\"Please enter B: \"))\n",
    "c= float(input(\"Please enter C: \"))\n",
    "\n",
    "s = (a+b+c)/2\n",
    "\n",
    "step1 = (s*(s-a)*(s-b)*(s-c))\n",
    "area_of_triangle = (math.sqrt(step1))\n",
    "print(f\"area of triangle is: {area_of_triangle}\")"
   ]
  },
  {
   "cell_type": "markdown",
   "id": "fe7acaa5",
   "metadata": {},
   "source": [
    "<img src=\"./q4.png\" width=\"500\"/>\n",
    "\n",
    "\n"
   ]
  },
  {
   "cell_type": "code",
   "execution_count": 102,
   "id": "356b7833",
   "metadata": {},
   "outputs": [
    {
     "name": "stdout",
     "output_type": "stream",
     "text": [
      "The Even elements are:\n",
      "[42, 56, 32]\n",
      "The Odd elements are:\n",
      "[25, 47]\n"
     ]
    }
   ],
   "source": [
    "array = [25,47,42,56,32]\n",
    "even_elements =[]\n",
    "odd_elements =[]\n",
    "\n",
    "for element in array:\n",
    "    if (element %2) == 0:\n",
    "        even_elements.append(element)\n",
    "    else: odd_elements.append(element)\n",
    "      \n",
    "    \n",
    "print(\"The Even elements are:\")\n",
    "print(even_elements)\n",
    "print(\"The Odd elements are:\")\n",
    "print(odd_elements)"
   ]
  },
  {
   "cell_type": "markdown",
   "id": "03e84163",
   "metadata": {},
   "source": [
    "<img src=\"./q5.png\" width=\"500\"/>\n",
    "\n",
    "\n",
    "\n"
   ]
  },
  {
   "cell_type": "code",
   "execution_count": 103,
   "id": "fa7d3955",
   "metadata": {},
   "outputs": [
    {
     "name": "stdout",
     "output_type": "stream",
     "text": [
      "True\n",
      "False\n",
      "for ques: b rectangle 1\n",
      "False\n",
      "For ques: b rectangle 2\n",
      "True\n"
     ]
    }
   ],
   "source": [
    "def inside(x,y,x1,y1,x2,y2):\n",
    "    if(x > x1 and x<x2 and y > y1 and y<y2 ):\n",
    "        print(True)\n",
    "    else: print(False)\n",
    "\n",
    "inside(1,1,0,0,2,3)\n",
    "inside(-1,-1,0,0,2,3)\n",
    "\n",
    "\n",
    "# for rectangle 1: \n",
    "\n",
    "x = 1\n",
    "y = 1\n",
    "x1 = 0.3\n",
    "y1 = 0.5\n",
    "x2 = 1.1\n",
    "y2 = 0.7\n",
    "\n",
    "print(\"for ques: b rectangle 1\")\n",
    "inside(x,y,x1,y1,x2,y2)\n",
    "\n",
    "\n",
    "# for rectangle 2:\n",
    "\n",
    "x =1\n",
    "y = 1\n",
    "x1 = 0.5\n",
    "y1 = 0.2\n",
    "x2 = 1.1\n",
    "y2 = 2\n",
    "\n",
    "print(\"For ques: b rectangle 2\")\n",
    "inside(x,y,x1,y1,x2,y2)"
   ]
  },
  {
   "cell_type": "markdown",
   "id": "983a63c9",
   "metadata": {},
   "source": [
    "<img src=\"./q6.png\" width=\"500\"/>\n",
    "\n",
    "\n",
    "\n",
    "\n"
   ]
  },
  {
   "cell_type": "code",
   "execution_count": 107,
   "id": "14224ccb",
   "metadata": {},
   "outputs": [
    {
     "name": "stdout",
     "output_type": "stream",
     "text": [
      "Please enter word you want to convert: happy\n",
      "appyhay\n"
     ]
    }
   ],
   "source": [
    "vowels = ['a','e','i','o','u']\n",
    "\n",
    "user_input = input(\"Please enter word you want to convert: \").lower()\n",
    "\n",
    "def pig(user_input):\n",
    "    if user_input[0] in vowels:\n",
    "        new_string = user_input + 'way'\n",
    "        print(new_string)\n",
    "    else :\n",
    "        char = user_input.replace(user_input[0],\"\")\n",
    "        new_string = char+user_input[0]+'ay'\n",
    "        print(new_string)\n",
    "        \n",
    "\n",
    "        \n",
    "pig(user_input)"
   ]
  },
  {
   "cell_type": "code",
   "execution_count": 115,
   "id": "15cbe81d",
   "metadata": {},
   "outputs": [
    {
     "name": "stdout",
     "output_type": "stream",
     "text": [
      "Please enter word you want to convert: enter\n",
      "enterway\n"
     ]
    }
   ],
   "source": [
    "user_input = input(\"Please enter word you want to convert: \").lower()\n",
    "pig(user_input)"
   ]
  },
  {
   "cell_type": "markdown",
   "id": "559b1199",
   "metadata": {},
   "source": [
    "<img src=\"./q7.png\" width=\"500\"/>\n",
    "\n",
    "\n",
    "\n",
    "\n",
    "\n"
   ]
  },
  {
   "cell_type": "code",
   "execution_count": 111,
   "id": "8a8b3c79",
   "metadata": {},
   "outputs": [
    {
     "name": "stdout",
     "output_type": "stream",
     "text": [
      "There are 15 patients of blood type A.\n",
      "There are 1 patients of blood type B.\n",
      "There are 13 patients of blood type AB.\n",
      "There are 15 patients of blood type O.\n",
      "There are 0 patients of blood type OO.\n"
     ]
    }
   ],
   "source": [
    "import os\n",
    "def bldcount(name):\n",
    "    file_path = os.path.abspath(name)\n",
    "    file= open(file_path).read()\n",
    "    blood_types = file.replace(\"\\n\",\"\").split(\" \")\n",
    "    count_of_A = 0\n",
    "    count_of_B = 0\n",
    "    count_of_AB = 0\n",
    "    count_of_O = 0\n",
    "    count_of_OO = 0\n",
    "    \n",
    "    for blood_type in blood_types:\n",
    "        if blood_type == 'A':\n",
    "            count_of_A += 1\n",
    "        elif blood_type == 'B':\n",
    "            count_of_B +=1\n",
    "        elif blood_type == 'AB':\n",
    "            count_of_AB +=1\n",
    "        elif blood_type == 'O':\n",
    "            count_of_O +=1\n",
    "        elif blood_type == 'OO':\n",
    "            count_of_OO +=1\n",
    "    \n",
    "    print(f\"There are {count_of_A} patients of blood type A.\")\n",
    "    print(f\"There are {count_of_B} patients of blood type B.\")\n",
    "    print(f\"There are {count_of_AB} patients of blood type AB.\")\n",
    "    print(f\"There are {count_of_O} patients of blood type O.\")\n",
    "    print(f\"There are {count_of_OO} patients of blood type OO.\")\n",
    "    \n",
    "\n",
    "bldcount('bloodtype1.txt')\n"
   ]
  },
  {
   "cell_type": "markdown",
   "id": "82b10057",
   "metadata": {},
   "source": [
    "<img src=\"./q8.png\" width=\"500\"/>\n",
    "\n",
    "\n",
    "\n",
    "\n",
    "\n",
    "\n"
   ]
  },
  {
   "cell_type": "code",
   "execution_count": 113,
   "id": "d532293f",
   "metadata": {},
   "outputs": [],
   "source": [
    "currency_price = []\n",
    "# this function must run before converting currency: it has info about price for each country    \n",
    "\n",
    "def currency(name):\n",
    "    file_path = os.path.abspath(name)\n",
    "    file = open(file_path).readlines()\n",
    "    currency_info = [data.strip().replace(\"\\t\",\" \") for data in file]\n",
    "    \n",
    "    for each_currency in currency_info:\n",
    "        price = each_currency.split(' ')\n",
    "        data ={\n",
    "            'sym':price[0], 'val':price[1]\n",
    "        }\n",
    "        currency_price.append(data)\n",
    "currency(\"./currencies.txt\")\n",
    "\n",
    "def curconv(currency_input, amount):\n",
    "    for info in currency_price:\n",
    "        if info['sym'] == currency_input:\n",
    "            new_amount = amount * float(info['val'])\n",
    "            print(f\"Your total in $US is {new_amount}\")\n",
    "#         if currency_input == info[0]:\n",
    "            \n",
    "    return\n",
    "    \n",
    "\n",
    "\n",
    "\n"
   ]
  },
  {
   "cell_type": "code",
   "execution_count": 46,
   "id": "cd56f519",
   "metadata": {
    "scrolled": true
   },
   "outputs": [
    {
     "name": "stdout",
     "output_type": "stream",
     "text": [
      "Please enter the Symbol of Currency: eur\n",
      "Please enter the amount: 100\n",
      "Your total in $US is 122.96544\n"
     ]
    }
   ],
   "source": [
    "currency_input = input(\"Please enter the Symbol of Currency: \").upper()\n",
    "amount = float(input(\"Please enter the amount: \"))\n",
    "curconv(currency_input, amount)"
   ]
  },
  {
   "cell_type": "code",
   "execution_count": 47,
   "id": "58b12f25",
   "metadata": {},
   "outputs": [
    {
     "name": "stdout",
     "output_type": "stream",
     "text": [
      "Please enter the Symbol of Currency: jpy\n",
      "Please enter the amount: 100\n",
      "Your total in $US is 1.241401\n"
     ]
    }
   ],
   "source": [
    "currency_input = input(\"Please enter the Symbol of Currency: \").upper()\n",
    "amount = float(input(\"Please enter the amount: \"))\n",
    "curconv(currency_input, amount)"
   ]
  },
  {
   "cell_type": "markdown",
   "id": "9be9a44f",
   "metadata": {},
   "source": [
    " <img src=\"./q9.png\" width=\"500\"/>\n",
    "\n",
    "\n",
    "\n",
    "\n",
    "\n",
    "\n",
    "\n"
   ]
  },
  {
   "cell_type": "markdown",
   "id": "57094f15",
   "metadata": {},
   "source": [
    "1:  adding 6 + 'a' will raise <b>TypeError: unsupported operand type(s) for +: 'int' and 'str</b>\n",
    "\n",
    "2:  Refering 10 12th item of list will raise <b>IndexError: list index out of range</b>\n",
    "\n",
    "3:  Calling math.sqrt(-1.0) will raise <b>ValueError: math domain error</b>\n",
    "\n",
    "4:  Undeclared Variable will raise <b>NameError: name 'x' is not defined</b>\n",
    "\n",
    "5:  Trying to open file that does not exist will raise <b>FileNotFoundError: [Errno 2] No such file or directory: './fsdv'</b>\n",
    "\n",
    "\n"
   ]
  },
  {
   "cell_type": "markdown",
   "id": "94aba7ec",
   "metadata": {},
   "source": [
    " <img src=\"./q10.png\" width=\"500\"/>\n",
    "\n"
   ]
  },
  {
   "cell_type": "code",
   "execution_count": 114,
   "id": "4f52d5ec",
   "metadata": {},
   "outputs": [
    {
     "name": "stdout",
     "output_type": "stream",
     "text": [
      "Please enter a string: apple\n",
      "[1, '0', '0', '0', 1, '0', '0', '0', '0', '0', '0', '0', 1, '0', '0', '0', 2, '0', '0', '0', '0', '0', '0', '0', '0', '0', '0']\n"
     ]
    }
   ],
   "source": [
    "list_of_counts =[{'char':'a', 'count':'0'},{'char':'b', 'count':'0'},{'char':'c', 'count':'0'},{'char':'d', 'count':'0'},\n",
    "                {'char':'e', 'count':'0'}, {'char':'f', 'count':'0'}, {'char':'g', 'count':'0'}, {'char':'h', 'count':'0'},\n",
    "                {'char':'h', 'count':'0'},{'char':'i', 'count':'0'},{'char':'j', 'count':'0'},{'char':'k', 'count':'0'},{'char':'l', 'count':'0'},\n",
    "                {'char':'m', 'count':'0'},{'char':'n', 'count':'0'},{'char':'o', 'count':'0'},{'char':'p', 'count':'0'},\n",
    "                {'char':'q', 'count':'0'},{'char':'r', 'count':'0'},{'char':'s', 'count':'0'},{'char':'t', 'count':'0'},\n",
    "                {'char':'u', 'count':'0'},{'char':'v', 'count':'0'},{'char':'w', 'count':'0'},{'char':'x', 'count':'0'},{'char':'y', 'count':'0'},\n",
    "                {'char':'z', 'count':'0'}]\n",
    "\n",
    "def frequencies(user_input):\n",
    "    string = user_input.strip().replace(\"\\n\",\" \").replace(\" \",\"\")\n",
    "    for each_char in string:\n",
    "        return_list =[]\n",
    "        for char_count in list_of_counts:\n",
    "            if each_char == char_count['char']:\n",
    "                char_count['count'] = int(char_count['count'])+1\n",
    "            return_list.append(char_count['count'])\n",
    "    \n",
    "    print(return_list)\n",
    "    \n",
    "    \n",
    "\n",
    "user_input = input(\"Please enter a string: \").lower()    \n",
    "frequencies(user_input)"
   ]
  },
  {
   "cell_type": "code",
   "execution_count": null,
   "id": "0a97109e",
   "metadata": {},
   "outputs": [],
   "source": []
  }
 ],
 "metadata": {
  "kernelspec": {
   "display_name": "Python 3 (ipykernel)",
   "language": "python",
   "name": "python3"
  },
  "language_info": {
   "codemirror_mode": {
    "name": "ipython",
    "version": 3
   },
   "file_extension": ".py",
   "mimetype": "text/x-python",
   "name": "python",
   "nbconvert_exporter": "python",
   "pygments_lexer": "ipython3",
   "version": "3.9.7"
  }
 },
 "nbformat": 4,
 "nbformat_minor": 5
}
