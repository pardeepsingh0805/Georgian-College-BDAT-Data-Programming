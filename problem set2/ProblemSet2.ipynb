{
 "cells": [
  {
   "cell_type": "markdown",
   "id": "29056a3a",
   "metadata": {},
   "source": [
    "<img src=\"./q1.png\" width=\"500\"/>"
   ]
  },
  {
   "cell_type": "code",
   "execution_count": 1,
   "id": "79cf5216",
   "metadata": {},
   "outputs": [],
   "source": [
    "a = 0\n",
    "def b():\n",
    "    global a\n",
    "    a = c(a)\n",
    "    print(a)\n",
    "def c(a):\n",
    "    return a+2"
   ]
  },
  {
   "cell_type": "code",
   "execution_count": 2,
   "id": "351ad316",
   "metadata": {},
   "outputs": [
    {
     "name": "stdout",
     "output_type": "stream",
     "text": [
      "2\n",
      "4\n",
      "6\n"
     ]
    }
   ],
   "source": [
    "b()\n",
    "b()\n",
    "b()"
   ]
  },
  {
   "cell_type": "code",
   "execution_count": 3,
   "id": "ed6963dd",
   "metadata": {},
   "outputs": [
    {
     "data": {
      "text/plain": [
       "6"
      ]
     },
     "execution_count": 3,
     "metadata": {},
     "output_type": "execute_result"
    }
   ],
   "source": [
    "a"
   ]
  },
  {
   "cell_type": "markdown",
   "id": "d3a77f99",
   "metadata": {},
   "source": [
    "Every time function b() is executed it access global variable \"a\" and \"a\" is assigned to function \"c\" which passes value of a into c(a), \n",
    "\n",
    "\n",
    "#### b( ) executed first time:\n",
    "when we executed b() for the first time: a was 0, then in function a was assigned to function c(a) passing value of a which was 0 and then after c(a) returned value a+2 which was 0+2 so first output was 2\n",
    "\n",
    "#### b( ) executed second time:\n",
    "when we executed b() for the second time: a was 2, then in function a was assigned to function c(a) passing value of a which was 2 and then after c(a) returned value a+2 which was 2+2 so first output was 4\n",
    "\n",
    "#### b( ) executed third time:\n",
    "when we executed b() for the second time: a was 4, then in function a was assigned to function c(a) passing value of a which was 4 and then after c(a) returned value a+2 which was 4+2 so first output was 6\n",
    "\n",
    "\n",
    "In every execution global variable \"a\" is being changed, and when we execute \"a\" at end, it returns value 6."
   ]
  },
  {
   "cell_type": "markdown",
   "id": "8e1b29d1",
   "metadata": {},
   "source": [
    "<img src=\"./q2.png\" width=\"500\"/>"
   ]
  },
  {
   "cell_type": "code",
   "execution_count": 4,
   "id": "ec4ea6fb",
   "metadata": {},
   "outputs": [],
   "source": [
    "def file_length(file_name):\n",
    "    try:\n",
    "        file = open(file_name)\n",
    "        contents = file.read()\n",
    "        file.close()\n",
    "        print(len(contents))\n",
    "    except: print(f\"File {file_name} not found!\")"
   ]
  },
  {
   "cell_type": "code",
   "execution_count": 5,
   "id": "3a12006d",
   "metadata": {},
   "outputs": [
    {
     "name": "stdout",
     "output_type": "stream",
     "text": [
      "13\n"
     ]
    }
   ],
   "source": [
    "file_length(\"doc.txt\")"
   ]
  },
  {
   "cell_type": "code",
   "execution_count": 6,
   "id": "27e64721",
   "metadata": {},
   "outputs": [
    {
     "name": "stdout",
     "output_type": "stream",
     "text": [
      "File doc123.txt not found!\n"
     ]
    }
   ],
   "source": [
    "file_length(\"doc123.txt\")"
   ]
  },
  {
   "cell_type": "markdown",
   "id": "e8912c47",
   "metadata": {},
   "source": [
    "<img src=\"./q3a.png\" width=\"500\"/>\n",
    "<img src=\"./q3b.png\" width=\"500\"/>"
   ]
  },
  {
   "cell_type": "code",
   "execution_count": 7,
   "id": "742dc2f4",
   "metadata": {},
   "outputs": [],
   "source": [
    "data = []\n",
    "a = 0\n",
    "b = 0\n",
    "class Marsupial():\n",
    "    \n",
    "    def put_in_pouch(self,user_input):\n",
    "        data.append(user_input)\n",
    "    \n",
    "    def pouch_contents(self):\n",
    "        print(data)\n",
    "        \n",
    "class Kangaroo(Marsupial):\n",
    "    def __init__(self,a,b):\n",
    "        Marsupial.__init__(self)\n",
    "        \n",
    "    def __str__(self):\n",
    "        return(f\"I am a Kangaroo located at coordinates({a},{b})\")\n",
    "    \n",
    "    def jump(self,xcor,ycor):\n",
    "        global a\n",
    "        global b\n",
    "        a +=xcor\n",
    "        b +=ycor\n",
    "        "
   ]
  },
  {
   "cell_type": "code",
   "execution_count": 8,
   "id": "ba1b869f",
   "metadata": {},
   "outputs": [
    {
     "name": "stdout",
     "output_type": "stream",
     "text": [
      "['doll', 'firetruck', 'kitten']\n"
     ]
    }
   ],
   "source": [
    "m = Marsupial()\n",
    "m.put_in_pouch(\"doll\")\n",
    "m.put_in_pouch(\"firetruck\")\n",
    "m.put_in_pouch(\"kitten\")\n",
    "m.pouch_contents()"
   ]
  },
  {
   "cell_type": "code",
   "execution_count": 9,
   "id": "03c5b761",
   "metadata": {},
   "outputs": [
    {
     "name": "stdout",
     "output_type": "stream",
     "text": [
      "I am a Kangaroo located at coordinates(0,0)\n",
      "['doll', 'firetruck', 'kitten', 'doll', 'firetruck', 'kitten']\n",
      "I am a Kangaroo located at coordinates(3,0)\n"
     ]
    }
   ],
   "source": [
    "k= Kangaroo(0,0)\n",
    "print(k)\n",
    "k.put_in_pouch(\"doll\")\n",
    "k.put_in_pouch(\"firetruck\")\n",
    "k.put_in_pouch(\"kitten\")\n",
    "k.pouch_contents()\n",
    "\n",
    "k.jump(1,0)\n",
    "k.jump(1,0)\n",
    "k.jump(1,0)\n",
    "print(k)"
   ]
  },
  {
   "cell_type": "markdown",
   "id": "787e62c2",
   "metadata": {},
   "source": [
    "<img src=\"./q4a.png\" width=\"500\"/>\n",
    "<img src=\"./q4b.png\" width=\"500\"/>"
   ]
  },
  {
   "cell_type": "code",
   "execution_count": 26,
   "id": "146e1db7",
   "metadata": {},
   "outputs": [
    {
     "name": "stdout",
     "output_type": "stream",
     "text": [
      "Type x:10\n",
      "10\n",
      "5\n",
      "16\n",
      "8\n",
      "4\n",
      "2\n",
      "1\n"
     ]
    }
   ],
   "source": [
    "import math\n",
    "x = int(input(\"Type x:\"))\n",
    "\n",
    "def collatz(x):\n",
    "    print(math.trunc(x))\n",
    "    if x == 1:\n",
    "        pass\n",
    "    elif x % 2 == 0:\n",
    "        collatz(x/2)\n",
    "    elif x %2 != 0:\n",
    "        collatz((3 * x)+1)\n",
    "        \n",
    "\n",
    "collatz(x)"
   ]
  },
  {
   "cell_type": "markdown",
   "id": "9c2c2d8c",
   "metadata": {},
   "source": [
    "<img src=\"./q5.png\" width=\"500\"/>\n"
   ]
  },
  {
   "cell_type": "code",
   "execution_count": 50,
   "id": "47afa4b9",
   "metadata": {},
   "outputs": [],
   "source": [
    "def binary(n):\n",
    "    if n < 2:\n",
    "        print (math.trunc(n), end = '')\n",
    "    else:\n",
    "        binary(n/2)\n",
    "        print (math.trunc(n%2), end = '')\n"
   ]
  },
  {
   "cell_type": "code",
   "execution_count": 53,
   "id": "4434b46e",
   "metadata": {},
   "outputs": [
    {
     "name": "stdout",
     "output_type": "stream",
     "text": [
      "0"
     ]
    }
   ],
   "source": [
    "binary(0)"
   ]
  },
  {
   "cell_type": "code",
   "execution_count": 54,
   "id": "65cfc8c8",
   "metadata": {},
   "outputs": [
    {
     "name": "stdout",
     "output_type": "stream",
     "text": [
      "1"
     ]
    }
   ],
   "source": [
    "binary(1)"
   ]
  },
  {
   "cell_type": "code",
   "execution_count": 55,
   "id": "13ebd7b5",
   "metadata": {},
   "outputs": [
    {
     "name": "stdout",
     "output_type": "stream",
     "text": [
      "11"
     ]
    }
   ],
   "source": [
    "binary(3)"
   ]
  },
  {
   "cell_type": "code",
   "execution_count": 56,
   "id": "d2dac0e1",
   "metadata": {},
   "outputs": [
    {
     "name": "stdout",
     "output_type": "stream",
     "text": [
      "1001"
     ]
    }
   ],
   "source": [
    "binary(9)"
   ]
  },
  {
   "cell_type": "markdown",
   "id": "8636875c",
   "metadata": {},
   "source": [
    "<img src=\"./q6a.png\" width=\"500\"/>\n",
    "<img src=\"./q6b.png\" width=\"500\"/>\n",
    "\n",
    "\n",
    "\n"
   ]
  },
  {
   "cell_type": "code",
   "execution_count": 10,
   "id": "240f0e34",
   "metadata": {},
   "outputs": [],
   "source": [
    "from html.parser import HTMLParser\n",
    "\n",
    "class HeadingParser(HTMLParser):\n",
    "    var = False\n",
    "    def __init__(self):\n",
    "        HTMLParser.__init__(self)\n",
    "\n",
    "    def handle_starttag(self,tag,attrs):\n",
    "        if tag == \"h1\":\n",
    "            self.var = True\n",
    "        elif tag == \"h2\":\n",
    "            self.var = True\n",
    "    \n",
    "    def handle_data(self,data):\n",
    "        if self.var:\n",
    "            print(data, end = \"  \")\n",
    "        \n",
    "    "
   ]
  },
  {
   "cell_type": "code",
   "execution_count": null,
   "id": "233ca3ba",
   "metadata": {},
   "outputs": [],
   "source": []
  },
  {
   "cell_type": "code",
   "execution_count": 11,
   "id": "326b85d4",
   "metadata": {},
   "outputs": [
    {
     "name": "stdout",
     "output_type": "stream",
     "text": [
      "W3C Mission  \n",
      "\t  Principles  \n",
      " \n",
      "\n",
      "\n",
      "  \n",
      "  \n",
      "  \n",
      "  \n",
      "\n",
      "\n"
     ]
    }
   ],
   "source": [
    "\n",
    "\n",
    "infile = open('w3c.html')\n",
    "content = infile.read()\n",
    "infile.close()\n",
    "hp = HeadingParser()\n",
    "hp.feed(content)\n",
    "for tag in range(1,len(tags)):\n",
    "    if tags[tag] == \"h1\":\n",
    "        print(tags_data[tag-1])\n",
    "    if tags[tag] == \"h2\":\n",
    "        print(f\"  {tags_data[tag]}\")\n",
    "        \n",
    "        \n",
    "        "
   ]
  },
  {
   "cell_type": "markdown",
   "id": "663fab22",
   "metadata": {},
   "source": [
    "<img src=\"./q7.png\" width=\"500\"/>\n",
    "\n"
   ]
  },
  {
   "cell_type": "code",
   "execution_count": 32,
   "id": "947dc979",
   "metadata": {},
   "outputs": [],
   "source": [
    "from urllib.request import urlopen\n",
    "from urllib.parse import urljoin\n",
    "from html.parser import HTMLParser\n",
    "\n",
    "class weblist(HTMLParser):\n",
    "    def __init__(self,url):\n",
    "        HTMLParser.__init__(self)\n",
    "        self.url = url\n",
    "        self.links = []\n",
    "    def handle_starttag(self, tag, attrs):\n",
    "        if tag =='a':\n",
    "            for attr in attrs:\n",
    "                if attr[0] == 'href':\n",
    "                    absolute = urljoin(self.url, attr[1])\n",
    "                    if absolute[:4] == 'http':\n",
    "                        self.links.append(absolute)       \n",
    "    def getLinks(self):\n",
    "        return self.links"
   ]
  },
  {
   "cell_type": "code",
   "execution_count": null,
   "id": "3ff5091e",
   "metadata": {},
   "outputs": [],
   "source": []
  },
  {
   "cell_type": "code",
   "execution_count": 33,
   "id": "557562c2",
   "metadata": {},
   "outputs": [
    {
     "data": {
      "text/plain": [
       "['http://reed.cs.depaul.edu/lperkovic/test2.html',\n",
       " 'https://reed.cs.depaul.edu/lperkovic/test3.html']"
      ]
     },
     "execution_count": 33,
     "metadata": {},
     "output_type": "execute_result"
    }
   ],
   "source": [
    "url = 'https://reed.cs.depaul.edu/lperkovic/test1.html'\n",
    "resource = urlopen(url)\n",
    "content = resource.read().decode()\n",
    "collector = weblist(url)\n",
    "collector.feed(content)\n",
    "collector.getLinks()\n"
   ]
  },
  {
   "cell_type": "code",
   "execution_count": 34,
   "id": "31a79e6c",
   "metadata": {},
   "outputs": [],
   "source": [
    "import re\n",
    "def webdir(url, depth, indent):\n",
    "    #print('\\nVisiting', url)\n",
    "    \n",
    "    content = urlopen(url).read().decode()\n",
    "    collector = Collector(url)\n",
    "    collector.feed(content)\n",
    "    urls = collector.getLinks()\n",
    "    \n",
    "    content = re.sub( r'<[^>]*>','',content).strip()\n",
    "    #freq  = frequency(contentsplit(\" \"))\n",
    "    \n",
    "    #print('\\n{:45}'.format(url))\n",
    "    for i in urls:\n",
    "        print(\" \" + '{:45}'.format(i))\n",
    "        analyze(i)\n",
    "        \n",
    "    return urls"
   ]
  },
  {
   "cell_type": "code",
   "execution_count": 35,
   "id": "80b8e4ee",
   "metadata": {},
   "outputs": [],
   "source": [
    "def crawl(url, depth, indent):\n",
    "    print('{:45}'.format(url))\n",
    "    webdir(url, depth, indent)"
   ]
  },
  {
   "cell_type": "code",
   "execution_count": 36,
   "id": "4c7ce927",
   "metadata": {},
   "outputs": [
    {
     "name": "stdout",
     "output_type": "stream",
     "text": [
      "Please type URLhttps://reed.cs.depaul.edu/lperkovic/test1.html\n",
      "Please provide depth2\n",
      "Please provide indent0\n",
      "https://reed.cs.depaul.edu/lperkovic/test1.html\n",
      " http://reed.cs.depaul.edu/lperkovic/test2.html\n",
      " http://reed.cs.depaul.edu/lperkovic/test4.html\n",
      " https://reed.cs.depaul.edu/lperkovic/test3.html\n",
      " https://reed.cs.depaul.edu/lperkovic/test4.html\n"
     ]
    }
   ],
   "source": [
    "url = input(\"Please type URL\")\n",
    "depth = input(\"Please provide depth\")\n",
    "indent = input(\"Please provide indent\")\n",
    "\n",
    "crawl(url, depth, indent)"
   ]
  },
  {
   "cell_type": "markdown",
   "id": "47975124",
   "metadata": {},
   "source": [
    "<img src=\"./q8a.png\" width=\"500\"/>\n",
    "<img src=\"./q8b.png\" width=\"500\"/>\n",
    "\n",
    "\n"
   ]
  },
  {
   "cell_type": "markdown",
   "id": "6ffeb91b",
   "metadata": {},
   "source": [
    "a) SELECT * FROM temprature; \n",
    "\n",
    "b) SELECT DISTINT cities from temprature;\n",
    "\n",
    "c) SELECT * from temprature WHERE country = 'India';\n",
    "\n",
    "d) select * from temprature where season = 'Fall';\n",
    "\n",
    "e) select city, country, season from temprature where rainfall BETWEEN 200 AND 400;\n",
    "\n",
    "f) SELECT city, country from temprature where season = 'Fall' AND temprature > 20 ORDER BY temprature;\n",
    "\n",
    "g) select SUM(rainfall) from temprature where country = 'Cairo';\n",
    "\n",
    "h) select season ,SUM(rainfall) from temprature GROUP BY SEASON;\n"
   ]
  },
  {
   "cell_type": "markdown",
   "id": "e2b4ae08",
   "metadata": {},
   "source": []
  },
  {
   "cell_type": "markdown",
   "id": "eee4182e",
   "metadata": {},
   "source": [
    "<img src=\"./q9.png\" width=\"500\"/>"
   ]
  },
  {
   "cell_type": "code",
   "execution_count": 232,
   "id": "663e7469",
   "metadata": {},
   "outputs": [
    {
     "name": "stdout",
     "output_type": "stream",
     "text": [
      "['THE', 'QUICK', 'BROWN', 'FOX', 'JUMPS', 'OVER', 'THE', 'LAZY', 'DOG']\n",
      "['the', 'quick', 'brown', 'fox', 'jumps', 'over', 'the', 'lazy', 'dog']\n",
      "[3, 5, 5, 3, 5, 4, 3, 4, 3]\n",
      "[['THE', 'the', 3], ['QUICK', 'quick', 5], ['BROWN', 'brown', 5], ['FOX', 'fox', 3], ['JUMPS', 'jumps', 5], ['OVER', 'over', 4], ['THE', 'the', 3], ['LAZY', 'lazy', 4], ['DOG', 'dog', 3]]\n",
      "['quick', 'brown', 'jumps', 'over', 'lazy']\n"
     ]
    }
   ],
   "source": [
    "words = ['The','quick','brown','fox','jumps','over','the','lazy','dog']\n",
    "upper_words = []\n",
    "lower_words = []\n",
    "word_length = []\n",
    "new_list = []\n",
    "new_words=[]\n",
    "######### a #######\n",
    "for word in words:\n",
    "    upper_words.append(word.upper())\n",
    "print(upper_words)\n",
    "\n",
    "######## b ########\n",
    "for word in words:\n",
    "    lower_words.append(word.lower())\n",
    "print(lower_words)\n",
    "    \n",
    "##### c #####\n",
    "for word in words:\n",
    "    count = len(word)\n",
    "    word_length.append(count)\n",
    "print(word_length)\n",
    "\n",
    "#### d #####\n",
    "for word in words:\n",
    "    capital = word.upper()\n",
    "    small = word.lower()\n",
    "    count = len(word)\n",
    "    new_list.append([capital,small,count])\n",
    "print(new_list)\n",
    "    \n",
    "##### e ######\n",
    "for word in words:\n",
    "    if len(word)>=4:\n",
    "        new_words.append(word)\n",
    "print(new_words)\n",
    "        "
   ]
  },
  {
   "cell_type": "code",
   "execution_count": null,
   "id": "1c2d199a",
   "metadata": {},
   "outputs": [],
   "source": []
  },
  {
   "cell_type": "code",
   "execution_count": null,
   "id": "67d7817e",
   "metadata": {},
   "outputs": [],
   "source": []
  }
 ],
 "metadata": {
  "kernelspec": {
   "display_name": "Python 3 (ipykernel)",
   "language": "python",
   "name": "python3"
  },
  "language_info": {
   "codemirror_mode": {
    "name": "ipython",
    "version": 3
   },
   "file_extension": ".py",
   "mimetype": "text/x-python",
   "name": "python",
   "nbconvert_exporter": "python",
   "pygments_lexer": "ipython3",
   "version": "3.9.7"
  }
 },
 "nbformat": 4,
 "nbformat_minor": 5
}
